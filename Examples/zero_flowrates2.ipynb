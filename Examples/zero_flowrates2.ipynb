{
 "cells": [
  {
   "cell_type": "markdown",
   "metadata": {},
   "source": [
    "# Zero Flowrate Degenerate Example"
   ]
  },
  {
   "cell_type": "markdown",
   "metadata": {},
   "source": [
    "with three separation units\n",
    "\n",
    "Created by Alex Dowling (alexdowling.net) at the University of Wisconsin-Madison"
   ]
  },
  {
   "cell_type": "markdown",
   "metadata": {},
   "source": [
    "Load modeling package (JuMP) and optimization solver (IPOPT)"
   ]
  },
  {
   "cell_type": "code",
   "execution_count": 1,
   "metadata": {
    "collapsed": true
   },
   "outputs": [],
   "source": [
    "using JuMP\n",
    "using Ipopt"
   ]
  },
  {
   "cell_type": "markdown",
   "metadata": {},
   "source": [
    "# Define Problem"
   ]
  },
  {
   "cell_type": "markdown",
   "metadata": {},
   "source": [
    "Declare streams, components (chemical species), and unites"
   ]
  },
  {
   "cell_type": "code",
   "execution_count": 2,
   "metadata": {
    "collapsed": false
   },
   "outputs": [
    {
     "data": {
      "text/plain": [
       "3-element Array{ASCIIString,1}:\n",
       " \"U1\"\n",
       " \"U2\"\n",
       " \"U3\""
      ]
     },
     "execution_count": 2,
     "metadata": {},
     "output_type": "execute_result"
    }
   ],
   "source": [
    "# Streams\n",
    "S = 2:9\n",
    "\n",
    "# Components (chemical species)\n",
    "C = [\"A\", \"B\"]\n",
    "\n",
    "# Units\n",
    "U = [\"U1\", \"U2\", \"U3\"]"
   ]
  },
  {
   "cell_type": "markdown",
   "metadata": {},
   "source": [
    "Specify flowrate connectivity using dictionaries"
   ]
  },
  {
   "cell_type": "code",
   "execution_count": 3,
   "metadata": {
    "collapsed": false
   },
   "outputs": [
    {
     "data": {
      "text/plain": [
       "Dict{ASCIIString,Integer} with 3 entries:\n",
       "  \"U3\" => 9\n",
       "  \"U1\" => 4\n",
       "  \"U2\" => 7"
      ]
     },
     "execution_count": 3,
     "metadata": {},
     "output_type": "execute_result"
    }
   ],
   "source": [
    "inlets = Dict{ASCIIString,Integer}(\"U1\"=>2, \"U2\"=>5, \"U3\"=>4)\n",
    "outletV = Dict{ASCIIString,Integer}(\"U1\"=>3, \"U2\"=>6, \"U3\"=>8)\n",
    "outletL = Dict{ASCIIString,Integer}(\"U1\"=>4, \"U2\"=>7, \"U3\"=>9)"
   ]
  },
  {
   "cell_type": "markdown",
   "metadata": {},
   "source": [
    "Specify feed streams and total feed flowrate"
   ]
  },
  {
   "cell_type": "code",
   "execution_count": 4,
   "metadata": {
    "collapsed": false
   },
   "outputs": [
    {
     "data": {
      "text/plain": [
       "Dict{AbstractString,Float64} with 2 entries:\n",
       "  \"B\" => 0.45\n",
       "  \"A\" => 0.55"
      ]
     },
     "execution_count": 4,
     "metadata": {},
     "output_type": "execute_result"
    }
   ],
   "source": [
    "feeds = [2, 5]\n",
    "feedflow = Dict{AbstractString, Float64}(\"A\"=>0.55, \"B\"=>0.45)"
   ]
  },
  {
   "cell_type": "markdown",
   "metadata": {},
   "source": [
    "Define costs for operating each unit"
   ]
  },
  {
   "cell_type": "code",
   "execution_count": 5,
   "metadata": {
    "collapsed": false,
    "scrolled": true
   },
   "outputs": [
    {
     "data": {
      "text/plain": [
       "Dict{AbstractString,Float64} with 2 entries:\n",
       "  \"U1\" => 1.5\n",
       "  \"U2\" => 1.0"
      ]
     },
     "execution_count": 5,
     "metadata": {},
     "output_type": "execute_result"
    }
   ],
   "source": [
    "ecost = Dict{AbstractString,Float64}(\"U1\"=>1.5, \"U2\"=>1.0)"
   ]
  },
  {
   "cell_type": "markdown",
   "metadata": {},
   "source": [
    "Specify equilibrium partition coefficient for each unit"
   ]
  },
  {
   "cell_type": "code",
   "execution_count": 6,
   "metadata": {
    "collapsed": false
   },
   "outputs": [
    {
     "data": {
      "text/plain": [
       "Dict{Tuple{ASCIIString,ASCIIString},Float64} with 6 entries:\n",
       "  (\"U3\",\"A\") => 1.093\n",
       "  (\"U1\",\"B\") => 0.9\n",
       "  (\"U2\",\"B\") => 0.9\n",
       "  (\"U1\",\"A\") => 1.008\n",
       "  (\"U3\",\"B\") => 0.9\n",
       "  (\"U2\",\"A\") => 1.099"
      ]
     },
     "execution_count": 6,
     "metadata": {},
     "output_type": "execute_result"
    }
   ],
   "source": [
    "K = Dict{Tuple{ASCIIString, ASCIIString}, Float64}(\n",
    "\t\t(\"U1\",\"A\")=>1.008,\t\t(\"U1\",\"B\")=>0.9,\n",
    "\t\t(\"U2\",\"A\")=>1.099,\t\t(\"U2\",\"B\")=>0.9,\n",
    "\t\t(\"U3\",\"A\")=>1.093,\t\t(\"U3\",\"B\")=>0.9\t)"
   ]
  },
  {
   "cell_type": "markdown",
   "metadata": {},
   "source": [
    "# Build Optimization Model"
   ]
  },
  {
   "cell_type": "code",
   "execution_count": 7,
   "metadata": {
    "collapsed": false
   },
   "outputs": [
    {
     "data": {
      "text/latex": [
       "$$ \\begin{alignat*}{1}\\min\\quad & 0\\\\\n",
       "\\text{Subject to} \\quad\\end{alignat*}\n",
       " $$"
      ],
      "text/plain": [
       "Feasibility problem with:\n",
       " * 0 linear constraints\n",
       " * 0 variables\n",
       "Solver is Ipopt"
      ]
     },
     "execution_count": 7,
     "metadata": {},
     "output_type": "execute_result"
    }
   ],
   "source": [
    "m = Model(solver=IpoptSolver())"
   ]
  },
  {
   "cell_type": "markdown",
   "metadata": {},
   "source": [
    "## General flowsheet model"
   ]
  },
  {
   "cell_type": "code",
   "execution_count": 8,
   "metadata": {
    "collapsed": true
   },
   "outputs": [],
   "source": [
    "# Total molar flowrate\n",
    "@variable(m, f[S] >= 0)\n",
    "\n",
    "# Component molar flowrate\n",
    "@variable(m, fc[S,C] >= 0)\n",
    "\n",
    "# Component mole fraction\n",
    "@variable(m, 0.001 <= x[S,C] <= 1)\n",
    "\n",
    "# Unit model\n",
    "for u in U\n",
    "\t\n",
    "\ti = inlets[u]\n",
    "\tv = outletV[u]\n",
    "\tl = outletL[u]\n",
    "\t\n",
    "\t# Overall mass balance\n",
    "\t@constraint(m, f[i] == f[v] + f[l])\n",
    "\n",
    "\tfor c in C\n",
    "\t\t# Component mass balance\n",
    "\t\t@constraint(m, fc[i,c] == fc[v,c] + fc[l,c])\n",
    "\t\n",
    "\t\t# vapor-liquid equilibrium\n",
    "\t\t@constraint(m, x[v, c] == K[(u,c)]*x[l,c])\n",
    "\t\n",
    "\tend\n",
    "\t\n",
    "\t# Unit summation (Rachford-Rice equation)\n",
    "\t# This constraint is redundant!!!\n",
    "\t# @constraint(m, sum{x[v,c] - x[l,c], c in C} == 0)\n",
    "\t\n",
    "end\n",
    "\n",
    "# Stream model: mole fraction specification\n",
    "for s in S\n",
    "\tfor c in C\n",
    "\t\t@constraint(m, fc[s,c] == f[s]*x[s,c])\n",
    "\tend\n",
    "end"
   ]
  },
  {
   "cell_type": "markdown",
   "metadata": {},
   "source": [
    "## Additional specifications"
   ]
  },
  {
   "cell_type": "code",
   "execution_count": 9,
   "metadata": {
    "collapsed": true
   },
   "outputs": [],
   "source": [
    "@variable(m, 0.551 <= purityA <= 1.0)\n",
    "@variable(m, 0.9 <= recoveryA <= 1.0)\n",
    "\n",
    "# Equipment cost\n",
    "ecost = Dict{AbstractString,Float64}(\"U1\"=>1.5, \"U2\"=>1.0, \"U3\"=>0.5)\n",
    "\n",
    "# Set total feed to one\n",
    "@constraint(m, sum{f[s], s in feeds} == 1)\n",
    "\n",
    "# Calculate purity of A\n",
    "@constraint(m, purityA*sum{sum{f[s], s in outletV[u]}, u in U} == sum{sum{fc[s,\"A\"], s in outletV[u]}, u in U})\n",
    "\n",
    "# Calculate recovery of A\n",
    "@constraint(m, recoveryA == sum{sum{fc[s,\"A\"], s in outletV[u]}, u in U} / feedflow[\"A\"])\n",
    "\n",
    "# Objective\n",
    "@objective(m, Min, sum{sum{f[s], s in inlets[u]}*ecost[u], u in U} - 100*purityA)\n",
    "\n",
    "for s in feeds\n",
    "\tfor c in C\n",
    "\t\tsetupperbound(x[s,c], feedflow[c])\n",
    "\t\tsetlowerbound(x[s,c], feedflow[c])\n",
    "\tend\n",
    "end"
   ]
  },
  {
   "cell_type": "markdown",
   "metadata": {},
   "source": [
    "## Initialization"
   ]
  },
  {
   "cell_type": "markdown",
   "metadata": {},
   "source": [
    "Strategy: Set all stream total molar flowrates to unity and assume composition matches feed"
   ]
  },
  {
   "cell_type": "code",
   "execution_count": 10,
   "metadata": {
    "collapsed": true
   },
   "outputs": [],
   "source": [
    "for s in S\n",
    "\t\n",
    "\tsetvalue(f[s], 1.0)\n",
    "\t\n",
    "\tfor c in C\n",
    "\t\tsetvalue(fc[s,c], feedflow[c])\n",
    "\t\tsetvalue(x[s,c], feedflow[c])\n",
    "\tend\n",
    "end"
   ]
  },
  {
   "cell_type": "markdown",
   "metadata": {},
   "source": [
    "## Print Model"
   ]
  },
  {
   "cell_type": "code",
   "execution_count": 11,
   "metadata": {
    "collapsed": false
   },
   "outputs": [
    {
     "data": {
      "text/latex": [
       "$$ \\begin{alignat*}{1}\\min\\quad & 1.5 f_{2} + f_{5} + 0.5 f_{4} - 100 purityA\\\\\n",
       "\\text{Subject to} \\quad & f_{2} - f_{3} - f_{4} = 0\\\\\n",
       " & fc_{2,A} - fc_{3,A} - fc_{4,A} = 0\\\\\n",
       " & x_{3,A} - 1.008 x_{4,A} = 0\\\\\n",
       " & fc_{2,B} - fc_{3,B} - fc_{4,B} = 0\\\\\n",
       " & x_{3,B} - 0.9 x_{4,B} = 0\\\\\n",
       " & f_{5} - f_{6} - f_{7} = 0\\\\\n",
       " & fc_{5,A} - fc_{6,A} - fc_{7,A} = 0\\\\\n",
       " & x_{6,A} - 1.099 x_{7,A} = 0\\\\\n",
       " & fc_{5,B} - fc_{6,B} - fc_{7,B} = 0\\\\\n",
       " & x_{6,B} - 0.9 x_{7,B} = 0\\\\\n",
       " & f_{4} - f_{8} - f_{9} = 0\\\\\n",
       " & fc_{4,A} - fc_{8,A} - fc_{9,A} = 0\\\\\n",
       " & x_{8,A} - 1.093 x_{9,A} = 0\\\\\n",
       " & fc_{4,B} - fc_{8,B} - fc_{9,B} = 0\\\\\n",
       " & x_{8,B} - 0.9 x_{9,B} = 0\\\\\n",
       " & f_{2} + f_{5} = 1\\\\\n",
       " & recoveryA - 1.8181818181818181 fc_{3,A} - 1.8181818181818181 fc_{6,A} - 1.8181818181818181 fc_{8,A} = 0\\\\\n",
       " & -f_{2}\\times x_{2,A} + fc_{2,A} = 0\\\\\n",
       " & -f_{2}\\times x_{2,B} + fc_{2,B} = 0\\\\\n",
       " & -f_{3}\\times x_{3,A} + fc_{3,A} = 0\\\\\n",
       " & -f_{3}\\times x_{3,B} + fc_{3,B} = 0\\\\\n",
       " & -f_{4}\\times x_{4,A} + fc_{4,A} = 0\\\\\n",
       " & -f_{4}\\times x_{4,B} + fc_{4,B} = 0\\\\\n",
       " & -f_{5}\\times x_{5,A} + fc_{5,A} = 0\\\\\n",
       " & -f_{5}\\times x_{5,B} + fc_{5,B} = 0\\\\\n",
       " & -f_{6}\\times x_{6,A} + fc_{6,A} = 0\\\\\n",
       " & -f_{6}\\times x_{6,B} + fc_{6,B} = 0\\\\\n",
       " & -f_{7}\\times x_{7,A} + fc_{7,A} = 0\\\\\n",
       " & -f_{7}\\times x_{7,B} + fc_{7,B} = 0\\\\\n",
       " & -f_{8}\\times x_{8,A} + fc_{8,A} = 0\\\\\n",
       " & -f_{8}\\times x_{8,B} + fc_{8,B} = 0\\\\\n",
       " & -f_{9}\\times x_{9,A} + fc_{9,A} = 0\\\\\n",
       " & -f_{9}\\times x_{9,B} + fc_{9,B} = 0\\\\\n",
       " & f_{3}\\times purityA + f_{6}\\times purityA + f_{8}\\times purityA - fc_{3,A} - fc_{6,A} - fc_{8,A} = 0\\\\\n",
       " & f_{i} \\geq 0 \\quad\\forall i \\in \\{2,3,\\dots,8,9\\}\\\\\n",
       " & fc_{i,j} \\geq 0 \\quad\\forall i \\in \\{2,3,\\dots,8,9\\}, j \\in \\{A,B\\}\\\\\n",
       " & 0.55 \\leq x_{2,A} \\leq 0.55\\\\\n",
       " & 0.45 \\leq x_{2,B} \\leq 0.45\\\\\n",
       " & 0.001 \\leq x_{3,A} \\leq 1\\\\\n",
       " & 0.001 \\leq x_{3,B} \\leq 1\\\\\n",
       " & 0.001 \\leq x_{4,A} \\leq 1\\\\\n",
       " & 0.001 \\leq x_{4,B} \\leq 1\\\\\n",
       " & 0.55 \\leq x_{5,A} \\leq 0.55\\\\\n",
       " & 0.45 \\leq x_{5,B} \\leq 0.45\\\\\n",
       " & 0.001 \\leq x_{6,A} \\leq 1\\\\\n",
       " & 0.001 \\leq x_{6,B} \\leq 1\\\\\n",
       " & 0.001 \\leq x_{7,A} \\leq 1\\\\\n",
       " & 0.001 \\leq x_{7,B} \\leq 1\\\\\n",
       " & 0.001 \\leq x_{8,A} \\leq 1\\\\\n",
       " & 0.001 \\leq x_{8,B} \\leq 1\\\\\n",
       " & 0.001 \\leq x_{9,A} \\leq 1\\\\\n",
       " & 0.001 \\leq x_{9,B} \\leq 1\\\\\n",
       " & 0.551 \\leq purityA \\leq 1\\\\\n",
       " & 0.9 \\leq recoveryA \\leq 1\\\\\n",
       "\\end{alignat*}\n",
       " $$"
      ],
      "text/plain": [
       "Minimization problem with:\n",
       " * 17 linear constraints\n",
       " * 17 quadratic constraints\n",
       " * 42 variables\n",
       "Solver is Ipopt"
      ]
     },
     "execution_count": 11,
     "metadata": {},
     "output_type": "execute_result"
    }
   ],
   "source": [
    "m"
   ]
  },
  {
   "cell_type": "markdown",
   "metadata": {},
   "source": [
    "# Solve Model"
   ]
  },
  {
   "cell_type": "code",
   "execution_count": 12,
   "metadata": {
    "collapsed": false,
    "scrolled": true
   },
   "outputs": [
    {
     "name": "stdout",
     "output_type": "stream",
     "text": [
      "\n",
      "******************************************************************************\n",
      "This program contains Ipopt, a library for large-scale nonlinear optimization.\n",
      " Ipopt is released as open source code under the Eclipse Public License (EPL).\n",
      "         For more information visit http://projects.coin-or.org/Ipopt\n",
      "******************************************************************************\n",
      "\n",
      "This is Ipopt version 3.12, running with linear solver ma27.\n",
      "\n",
      "Number of nonzeros in equality constraint Jacobian...:       98\n",
      "Number of nonzeros in inequality constraint Jacobian.:        0\n",
      "Number of nonzeros in Lagrangian Hessian.............:       15\n",
      "\n",
      "Total number of variables............................:       38\n",
      "                     variables with only lower bounds:       24\n",
      "                variables with lower and upper bounds:       14\n",
      "                     variables with only upper bounds:        0\n",
      "Total number of equality constraints.................:       34\n",
      "Total number of inequality constraints...............:        0\n",
      "        inequality constraints with only lower bounds:        0\n",
      "   inequality constraints with lower and upper bounds:        0\n",
      "        inequality constraints with only upper bounds:        0\n",
      "\n",
      "iter    objective    inf_pr   inf_du lg(mu)  ||d||  lg(rg) alpha_du alpha_pr  ls\n",
      "   0 -5.5518999e+01 9.80e-01 9.97e+01  -1.0 0.00e+00    -  0.00e+00 0.00e+00   0\n",
      "   1 -5.5694411e+01 9.76e-01 9.96e+01  -1.0 1.57e+01    -  6.34e-04 3.64e-03f  1\n",
      "   2 -5.5693785e+01 9.76e-01 1.36e+02  -1.0 1.30e+01   4.0 3.77e-03 4.53e-05h  1\n",
      "   3 -5.5485030e+01 9.75e-01 1.59e+03  -1.0 1.19e+01   3.5 3.71e-03 1.68e-03h  1\n",
      "   4 -5.5445521e+01 9.75e-01 7.08e+03  -1.0 1.07e+01   3.0 8.46e-03 6.68e-05h  1\n",
      "   5 -5.5068474e+01 9.74e-01 2.57e+04  -1.0 1.32e+01   3.5 2.95e-03 4.36e-04h  1\n",
      "   6 -5.5080233e+01 9.68e-01 9.65e+04  -1.0 2.97e+01    -  1.27e-03 6.26e-03h  1\n",
      "   7 -5.5217570e+01 9.65e-01 8.46e+04  -1.0 8.71e+00   3.9 2.22e-04 3.71e-03f  1\n",
      "   8 -6.8273881e+01 8.63e-01 8.55e+05  -1.0 6.45e+00   4.3 1.38e-03 1.05e-01f  1\n",
      "   9 -6.7848466e+01 8.60e-01 8.52e+05  -1.0 3.02e+00   4.7 2.30e-03 3.16e-03h  1\n",
      "iter    objective    inf_pr   inf_du lg(mu)  ||d||  lg(rg) alpha_du alpha_pr  ls\n",
      "  10 -6.6834882e+01 8.44e-01 8.59e+05  -1.0 3.04e+00   5.2 3.70e-02 1.85e-02h  1\n",
      "  11 -6.5847515e+01 8.22e-01 8.91e+05  -1.0 2.43e+00   5.6 3.96e-02 2.70e-02h  1\n",
      "  12 -6.5851429e+01 8.21e-01 8.91e+05  -1.0 1.80e+00   5.1 7.19e-02 7.43e-05h  1\n",
      "  13 -5.4870102e+01 6.74e-01 8.62e+05  -1.0 1.75e+00   4.6 2.19e-01 1.79e-01h  1\n",
      "  14 -5.5050691e+01 1.07e-01 2.12e+05  -1.0 6.86e-01   5.1 8.59e-03 8.41e-01h  1\n",
      "  15 -5.4576073e+01 1.71e-02 4.23e+04  -1.0 1.07e-01   4.6 1.00e+00 8.41e-01h  1\n",
      "  16 -5.4554657e+01 4.05e-03 1.02e+04  -1.0 1.71e-02   4.1 1.00e+00 7.62e-01h  1\n",
      "  17 -5.4544637e+01 8.42e-04 1.11e+04  -1.0 4.05e-03   3.6 1.00e+00 7.92e-01h  1\n",
      "  18 -5.4543455e+01 7.72e-04 6.66e+04  -1.0 4.23e-01    -  2.48e-02 8.41e-02h  1\n",
      "  19 -5.4534267e+01 2.61e-04 2.11e+04  -1.0 3.34e-02    -  3.27e-01 6.62e-01h  1\n",
      "iter    objective    inf_pr   inf_du lg(mu)  ||d||  lg(rg) alpha_du alpha_pr  ls\n",
      "  20 -5.4532618e+01 2.33e-04 2.74e+04  -1.0 3.77e-01    -  3.47e-02 1.05e-01h  1\n",
      "  21 -5.4532436e+01 2.29e-04 1.18e+05  -1.0 4.73e+00    -  5.02e-04 1.79e-02h  1\n",
      "  22 -5.4531596e+01 2.17e-04 1.28e+05  -1.0 1.17e+00    -  4.95e-02 5.35e-02f  1\n",
      "  23 -5.4523533e+01 2.75e-05 5.69e+05  -1.0 1.84e-02   3.2 1.00e+00 8.73e-01h  1\n",
      "  24 -5.4515701e+01 7.41e-06 9.47e+05  -1.0 1.01e-02   2.7 1.00e+00 7.30e-01h  1\n",
      "  25 -5.4510834e+01 5.12e-06 1.49e+06  -1.0 2.75e-01    -  4.74e-01 3.09e-01f  2\n",
      "  26 -5.4500380e+01 2.32e-07 2.32e+05  -1.0 7.94e-03   2.2 1.00e+00 1.00e+00h  1\n",
      "  27 -5.4494837e+01 6.57e-08 3.98e+07  -1.0 2.23e-01    -  9.66e-01 1.00e+00f  1\n",
      "  28 -5.4494815e+01 6.35e-08 4.78e+07  -1.0 5.45e+00    -  9.37e-02 3.36e-02f  2\n",
      "  29 -5.4494294e+01 5.82e-10 5.56e+07  -1.0 2.32e-02   1.7 8.01e-01 1.00e+00h  1\n",
      "iter    objective    inf_pr   inf_du lg(mu)  ||d||  lg(rg) alpha_du alpha_pr  ls\n",
      "  30 -5.4494227e+01 2.46e-11 1.02e+07  -1.0 6.98e-03   2.2 1.00e+00 1.00e+00h  1\n",
      "  31 -5.4494196e+01 3.53e-12 1.65e+07  -1.0 8.59e-03   1.7 1.00e+00 1.00e+00h  1\n",
      "  32 -5.4494193e+01 2.41e-13 1.46e+06  -1.0 1.08e-03   2.1 1.00e+00 1.00e+00h  1\n",
      "  33 -5.4510752e+01 5.86e-07 5.17e+05  -1.7 3.28e-03   1.6 1.00e+00 1.00e+00f  1\n",
      "  34 -5.4529705e+01 7.65e-07 6.20e+08  -1.7 1.17e-01    -  1.00e+00 1.00e+00f  1\n",
      "  35 -5.4527598e+01 9.54e-09 7.45e+07  -1.7 1.77e-02    -  1.00e+00 1.00e+00h  1\n",
      "  36 -5.4527597e+01 2.43e-16 2.53e+07  -1.7 3.09e-03    -  1.00e+00 1.00e+00h  1\n",
      "  37 -5.4527597e+01 9.10e-15 1.14e+09  -1.7 1.09e-03    -  1.00e+00 1.00e+00f  1\n",
      "  38 -5.4527597e+01 5.57e-17 1.21e+09  -1.7 3.88e-03    -  1.00e+00 1.00e+00f  1\n",
      "  39 -5.4527597e+01 1.11e-16 2.16e+04  -1.7 8.12e-06    -  1.00e+00 1.00e+00h  1\n",
      "iter    objective    inf_pr   inf_du lg(mu)  ||d||  lg(rg) alpha_du alpha_pr  ls\n",
      "  40 -5.4527597e+01 6.84e-14 8.67e+04  -8.6 4.32e-08  11.5 1.00e+00 1.81e-06h 20\n",
      "  41 -5.4527597e+01 1.11e-16 3.78e+00  -8.6 1.31e-11  11.0 1.00e+00 1.00e+00h  1\n",
      "  42 -5.4527597e+01 1.11e-16 1.30e+00  -9.0 3.93e-11  10.5 1.00e+00 1.00e+00h  1\n",
      "\n",
      "Number of Iterations....: 42\n",
      "\n",
      "                                   (scaled)                 (unscaled)\n",
      "Objective...............:  -5.4527597420950038e+01   -5.4527597420950038e+01\n",
      "Dual infeasibility......:   1.3047935819185494e+00    1.3047935819185494e+00\n",
      "Constraint violation....:   1.1102230246251565e-16    1.1102230246251565e-16\n",
      "Complementarity.........:   9.0909092782907091e-10    9.0909092782907091e-10\n",
      "Overall NLP error.......:   9.3541667328249805e-10    1.3047935819185494e+00\n",
      "\n",
      "\n",
      "Number of objective function evaluations             = 86\n",
      "Number of objective gradient evaluations             = 44\n",
      "Number of equality constraint evaluations            = 86\n",
      "Number of inequality constraint evaluations          = 0\n",
      "Number of equality constraint Jacobian evaluations   = 44\n",
      "Number of inequality constraint Jacobian evaluations = 0\n",
      "Number of Lagrangian Hessian evaluations             = 43\n",
      "Total CPU secs in IPOPT (w/o function evaluations)   =      0.069\n",
      "Total CPU secs in NLP function evaluations           =      0.050\n",
      "\n",
      "EXIT: Solved To Acceptable Level.\n"
     ]
    },
    {
     "data": {
      "text/plain": [
       ":Optimal"
      ]
     },
     "execution_count": 12,
     "metadata": {},
     "output_type": "execute_result"
    }
   ],
   "source": [
    "solve(m)"
   ]
  },
  {
   "cell_type": "markdown",
   "metadata": {},
   "source": [
    "Examine solution"
   ]
  },
  {
   "cell_type": "code",
   "execution_count": 13,
   "metadata": {
    "collapsed": false
   },
   "outputs": [
    {
     "name": "stdout",
     "output_type": "stream",
     "text": [
      "Stream 2\tf = 0.0000 \tx_A = 0.5500 \tx_B = 0.4500 \t \n",
      "Stream 3\tf = 0.0000 \tx_A = 0.5025 \tx_B = 0.4729 \t \n",
      "Stream 4\tf = 0.0000 \tx_A = 0.4985 \tx_B = 0.5254 \t \n",
      "Stream 5\tf = 1.0000 \tx_A = 0.5500 \tx_B = 0.4500 \t \n",
      "Stream 6\tf = 0.8945 \tx_A = 0.5553 \tx_B = 0.4448 \t \n",
      "Stream 7\tf = 0.1055 \tx_A = 0.5053 \tx_B = 0.4942 \t \n",
      "Stream 8\tf = 0.0000 \tx_A = 0.5217 \tx_B = 0.4729 \t \n",
      "Stream 9\tf = 0.0000 \tx_A = 0.4773 \tx_B = 0.5254 \t \n"
     ]
    }
   ],
   "source": [
    "for s in S\n",
    "    print(\"Stream \",s,\"\\t\")\n",
    "    @printf \"f = %.4f \\t\" getvalue(f[s])\n",
    "    for c in C\n",
    "        @printf \"x_%s = %.4f \\t\" c getvalue(x[s,c]) \n",
    "    end\n",
    "    println(\" \")\n",
    "end"
   ]
  },
  {
   "cell_type": "markdown",
   "metadata": {},
   "source": [
    "# Run Degeneracy Hunter"
   ]
  },
  {
   "cell_type": "code",
   "execution_count": 14,
   "metadata": {
    "collapsed": false
   },
   "outputs": [
    {
     "data": {
      "text/plain": [
       "DegeneracyHunter"
      ]
     },
     "execution_count": 14,
     "metadata": {},
     "output_type": "execute_result"
    }
   ],
   "source": [
    "include(\"../DegeneracyHunter.jl\")"
   ]
  },
  {
   "cell_type": "code",
   "execution_count": 15,
   "metadata": {
    "collapsed": false
   },
   "outputs": [
    {
     "name": "stdout",
     "output_type": "stream",
     "text": [
      "******************************************\n",
      "Welcome to Degeneracy Hunter!\n",
      " \n",
      "Options: \n",
      "includeBounds = false\n",
      "includeWeaklyActive = true\n",
      "removeFixedVar = true\n",
      "epsiActive = 1.0e-6\n",
      "epsiLambda = 1.0e-6\n",
      "lambdaM = 100000.0\n",
      " \n",
      "Setting up NLP evaluator... 1.1467e-5 seconds\n",
      "Initializing... 1.266733188 seconds\n",
      "Determining Jacobian structure... 0.023807954 seconds\n",
      "Evaluating Jacobian... 0.030439849 seconds\n",
      " \n",
      "Smallest non-zero element in Jacobian = -9.829267948159997e-41\n",
      "Variable: \n",
      "x[27] = x[3,A]\n",
      "Equation: \n",
      "-f[3]*x[3,A] + fc[3,A] = 0\n",
      " \n",
      "Largest non-zero element in Jacobian = -1.8181818181818181\n",
      "Variable: \n",
      "x[11] = fc[3,A]\n",
      "Equation: \n",
      "recoveryA - 1.8181818181818181 fc[3,A] - 1.8181818181818181 fc[6,A] - 1.8181818181818181 fc[8,A] = 0\n",
      " \n",
      " \n",
      "(Weakly) Active Inequality Constraints: 0\n",
      "Inactive Inequality Constraints: 0\n",
      "Equality Constraints: 34\n",
      " \n",
      "Variables: 42\n",
      "(Weakly) Active Variable Bounds: 19\n",
      "Fixed Variables: 4\n",
      " \n",
      "Adding Jacobian elements for bounds... 2.944e-6 seconds\n",
      "Assembling J_sparse... 5.508e-6 seconds\n",
      "Assembling J_active... 0.065840101 seconds\n",
      "Identified 16 candidate constraints/bounds.\n",
      "Degenerate set from candidate search:\n",
      "IDS 0...\n",
      "y = 1.0000, l = 1.4855  \t f[2] - f[3] - f[4] = 0\n",
      "y = 1.0000, l = -1.0000  \t fc[2,A] - fc[3,A] - fc[4,A] = 0\n",
      "y = 1.0000, l = -2.0789  \t fc[2,B] - fc[3,B] - fc[4,B] = 0\n",
      "y = 1.0000, l = 4.5782  \t f[4] - f[8] - f[9] = 0\n",
      "y = 1.0000, l = -4.9696  \t fc[4,A] - fc[8,A] - fc[9,A] = 0\n",
      "y = 1.0000, l = -4.1989  \t fc[4,B] - fc[8,B] - fc[9,B] = 0\n",
      "y = 1.0000, l = 1.0000  \t -f[2]*x[2,A] + fc[2,A] = 0\n",
      "y = 1.0000, l = 2.0789  \t -f[2]*x[2,B] + fc[2,B] = 0\n",
      "y = 1.0000, l = -1.0000  \t -f[3]*x[3,A] + fc[3,A] = 0\n",
      "y = 1.0000, l = -2.0789  \t -f[3]*x[3,B] + fc[3,B] = 0\n",
      "y = 1.0000, l = 3.9696  \t -f[4]*x[4,A] + fc[4,A] = 0\n",
      "y = 1.0000, l = 2.1200  \t -f[4]*x[4,B] + fc[4,B] = 0\n",
      "y = 1.0000, l = -4.9696  \t -f[8]*x[8,A] + fc[8,A] = 0\n",
      "y = 1.0000, l = -4.1989  \t -f[8]*x[8,B] + fc[8,B] = 0\n",
      "y = 1.0000, l = -4.9696  \t -f[9]*x[9,A] + fc[9,A] = 0\n",
      "y = 1.0000, l = -4.1989  \t -f[9]*x[9,B] + fc[9,B] = 0\n",
      " \n",
      "Involved variables: \n",
      "x[1] = f[2] = 0.0  \t [0.0,Inf]\n",
      "x[2] = f[3] = 9.829267948159997e-41  \t [0.0,Inf]\n",
      "x[3] = f[4] = 0.0  \t [0.0,Inf]\n",
      "x[9] = fc[2,A] = 0.0  \t [0.0,Inf]\n",
      "x[11] = fc[3,A] = 4.932570594423356e-41  \t [0.0,Inf]\n",
      "x[13] = fc[4,A] = 0.0  \t [0.0,Inf]\n",
      "x[10] = fc[2,B] = 0.0  \t [0.0,Inf]\n",
      "x[12] = fc[3,B] = 4.650068824015473e-41  \t [0.0,Inf]\n",
      "x[14] = fc[4,B] = 0.0  \t [0.0,Inf]\n",
      "x[7] = f[8] = 0.0  \t [0.0,Inf]\n",
      "x[8] = f[9] = 0.0  \t [0.0,Inf]\n",
      "x[21] = fc[8,A] = 0.0  \t [0.0,Inf]\n",
      "x[23] = fc[9,A] = 0.0  \t [0.0,Inf]\n",
      "x[22] = fc[8,B] = 0.0  \t [0.0,Inf]\n",
      "x[24] = fc[9,B] = 0.0  \t [0.0,Inf]\n",
      "x[25] = x[2,A] = 0.55  \t [0.55,0.55]\n",
      "x[26] = x[2,B] = 0.45  \t [0.45,0.45]\n",
      "x[27] = x[3,A] = 0.5024860822067656  \t [0.001,1.0]\n",
      "x[28] = x[3,B] = 0.47285523053807527  \t [0.001,1.0]\n",
      "x[29] = x[4,A] = 0.4984980974273468  \t [0.001,1.0]\n",
      "x[30] = x[4,B] = 0.5253947005978614  \t [0.001,1.0]\n",
      "x[37] = x[8,A] = 0.521713100715792  \t [0.001,1.0]\n",
      "x[38] = x[8,B] = 0.4728552291843305  \t [0.001,1.0]\n",
      "x[39] = x[9,A] = 0.4773221415515023  \t [0.001,1.0]\n",
      "x[40] = x[9,B] = 0.5253946990937005  \t [0.001,1.0]\n",
      " \n",
      "\n",
      "nVar = 38\n",
      "nLambda = 34\n",
      "\t Constraints = 34\n",
      "\t Variable Bounds = 0\n",
      "\n",
      " \n",
      "Leaving Degeneracy Hunter.\n",
      "***************************\n",
      " \n"
     ]
    }
   ],
   "source": [
    "DegeneracyHunter.degeneracyHunter(m);"
   ]
  },
  {
   "cell_type": "code",
   "execution_count": null,
   "metadata": {
    "collapsed": true
   },
   "outputs": [],
   "source": []
  }
 ],
 "metadata": {
  "kernelspec": {
   "display_name": "Julia 0.4.6-pre",
   "language": "julia",
   "name": "julia-0.4"
  },
  "language_info": {
   "file_extension": ".jl",
   "mimetype": "application/julia",
   "name": "julia",
   "version": "0.4.6"
  }
 },
 "nbformat": 4,
 "nbformat_minor": 0
}
