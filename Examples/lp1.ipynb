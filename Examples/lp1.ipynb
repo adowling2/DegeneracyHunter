{
 "cells": [
  {
   "cell_type": "markdown",
   "metadata": {},
   "source": [
    "# Linear programming example"
   ]
  },
  {
   "cell_type": "markdown",
   "metadata": {},
   "source": [
    "Created by Alex Dowling (alexdowling.net) while at the University of Wisconsin-Madison"
   ]
  },
  {
   "cell_type": "markdown",
   "metadata": {},
   "source": [
    "## Define Problem"
   ]
  },
  {
   "cell_type": "code",
   "execution_count": null,
   "metadata": {
    "collapsed": false
   },
   "outputs": [],
   "source": [
    "include(\"../DegeneracyHunter.jl\")\n",
    "using JuMP\n",
    "\n",
    "function lp1()\n",
    "\tm = Model()\n",
    "\n",
    "\t@variable(m, 0 <= x[1:3] <= 5)\n",
    "\t@variable(m, 0 <= y <= 0)\n",
    "\t@constraint(m, x[1] + x[2] >= 1)\n",
    "\t@constraint(m, x[1] + x[2] + x[3] == 1)\n",
    "\t@constraint(m, x[2] - 2*x[3] <= 1)\n",
    "\t@constraint(m, x[1] + x[3] >= 1)\n",
    "\t@constraint(m, x[1] + x[2] + x[3] == 1) # Redundant constraint - makes problem degenerate\n",
    "\t@objective(m, Min, sum{x[i],i=1:3})\n",
    "\t\n",
    "\treturn m\n",
    "end\n",
    "\n",
    "function initialize!(m::Model)\n",
    "\tx = getvariable(m,:x)\n",
    "\tsetvalue(x[1], 1.0)\n",
    "\tsetvalue(x[2], 5.0)\n",
    "\tsetvalue(x[3], -1.0)\n",
    "\t\n",
    "\t# Intentionally do not initialize y\n",
    "\t\n",
    "\treturn nothing\n",
    "end"
   ]
  },
  {
   "cell_type": "markdown",
   "metadata": {},
   "source": [
    "## Create and initialize model"
   ]
  },
  {
   "cell_type": "code",
   "execution_count": null,
   "metadata": {
    "collapsed": false
   },
   "outputs": [],
   "source": [
    "m = lp1()\n",
    "initialize!(m)\n",
    "print(m)"
   ]
  },
  {
   "cell_type": "markdown",
   "metadata": {},
   "source": [
    "## Check initialization"
   ]
  },
  {
   "cell_type": "markdown",
   "metadata": {},
   "source": [
    "### Check if initial values are within variable bounds"
   ]
  },
  {
   "cell_type": "code",
   "execution_count": null,
   "metadata": {
    "collapsed": false
   },
   "outputs": [],
   "source": [
    "DegeneracyHunter.printVariableDiagnostics(m)"
   ]
  },
  {
   "cell_type": "markdown",
   "metadata": {},
   "source": [
    "### Print equations with absolute residuals greater than 0.001"
   ]
  },
  {
   "cell_type": "code",
   "execution_count": null,
   "metadata": {
    "collapsed": false
   },
   "outputs": [],
   "source": [
    "DegeneracyHunter.printInfeasibleEquations(m, 0.001)"
   ]
  },
  {
   "cell_type": "markdown",
   "metadata": {},
   "source": [
    "### Check for degenerate constraints"
   ]
  },
  {
   "cell_type": "code",
   "execution_count": null,
   "metadata": {
    "collapsed": false
   },
   "outputs": [],
   "source": [
    "DegeneracyHunter.degeneracyHunter(m, includeBounds=true);"
   ]
  },
  {
   "cell_type": "markdown",
   "metadata": {},
   "source": [
    "## Solve model"
   ]
  },
  {
   "cell_type": "code",
   "execution_count": null,
   "metadata": {
    "collapsed": false
   },
   "outputs": [],
   "source": [
    "tic()\n",
    "status = solve(m)\n",
    "tm = toq()"
   ]
  },
  {
   "cell_type": "markdown",
   "metadata": {},
   "source": [
    "## Analyze solution"
   ]
  },
  {
   "cell_type": "markdown",
   "metadata": {},
   "source": [
    "### Print inactive constraints at solution"
   ]
  },
  {
   "cell_type": "code",
   "execution_count": null,
   "metadata": {
    "collapsed": false
   },
   "outputs": [],
   "source": [
    "DegeneracyHunter.printInactiveEquations(m)"
   ]
  },
  {
   "cell_type": "markdown",
   "metadata": {},
   "source": [
    "### Package and print problem size information"
   ]
  },
  {
   "cell_type": "code",
   "execution_count": null,
   "metadata": {
    "collapsed": false
   },
   "outputs": [],
   "source": [
    "ps = DegeneracyHunter.assembleProblemStats(m,status,tm)\n",
    "DegeneracyHunter.printProblemStats(ps)"
   ]
  },
  {
   "cell_type": "code",
   "execution_count": null,
   "metadata": {
    "collapsed": true
   },
   "outputs": [],
   "source": []
  }
 ],
 "metadata": {
  "kernelspec": {
   "display_name": "Julia 0.4.6-pre",
   "language": "julia",
   "name": "julia-0.4"
  },
  "language_info": {
   "file_extension": ".jl",
   "mimetype": "application/julia",
   "name": "julia",
   "version": "0.4.6"
  }
 },
 "nbformat": 4,
 "nbformat_minor": 0
}
