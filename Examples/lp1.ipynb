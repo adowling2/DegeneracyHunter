{
 "cells": [
  {
   "cell_type": "markdown",
   "metadata": {},
   "source": [
    "# Linear programming example"
   ]
  },
  {
   "cell_type": "markdown",
   "metadata": {},
   "source": [
    "Created by Alex Dowling (alexdowling.net) while at the University of Wisconsin-Madison"
   ]
  },
  {
   "cell_type": "markdown",
   "metadata": {},
   "source": [
    "## Define Problem"
   ]
  },
  {
   "cell_type": "code",
   "execution_count": 1,
   "metadata": {
    "collapsed": false
   },
   "outputs": [
    {
     "data": {
      "text/plain": [
       "initialize! (generic function with 1 method)"
      ]
     },
     "execution_count": 1,
     "metadata": {},
     "output_type": "execute_result"
    }
   ],
   "source": [
    "include(\"../DegeneracyHunter.jl\")\n",
    "using JuMP\n",
    "\n",
    "function lp1()\n",
    "\tm = Model()\n",
    "\n",
    "\t@variable(m, 0 <= x[1:3] <= 5)\n",
    "\t@variable(m, 0 <= y <= 0)\n",
    "\t@constraint(m, x[1] + x[2] >= 1)\n",
    "\t@constraint(m, x[1] + x[2] + x[3] == 1)\n",
    "\t@constraint(m, x[2] - 2*x[3] <= 1)\n",
    "\t@constraint(m, x[1] + x[3] >= 1)\n",
    "\t@constraint(m, x[1] + x[2] + x[3] == 1) # Redundant constraint - makes problem degenerate\n",
    "\t@objective(m, Min, sum{x[i],i=1:3})\n",
    "\t\n",
    "\treturn m\n",
    "end\n",
    "\n",
    "function initialize!(m::Model)\n",
    "\tx = getvariable(m,:x)\n",
    "\tsetvalue(x[1], 1.0)\n",
    "\tsetvalue(x[2], 5.0)\n",
    "\tsetvalue(x[3], -1.0)\n",
    "\t\n",
    "\t# Intentionally do not initialize y\n",
    "\t\n",
    "\treturn nothing\n",
    "end"
   ]
  },
  {
   "cell_type": "markdown",
   "metadata": {},
   "source": [
    "## Create and initialize model"
   ]
  },
  {
   "cell_type": "code",
   "execution_count": 2,
   "metadata": {
    "collapsed": false
   },
   "outputs": [
    {
     "name": "stdout",
     "output_type": "stream",
     "text": [
      "Min x[1] + x[2] + x[3]\n",
      "Subject to\n",
      " x[1] + x[2] ≥ 1\n",
      " x[1] + x[2] + x[3] = 1\n",
      " x[2] - 2 x[3] ≤ 1\n",
      " x[1] + x[3] ≥ 1\n",
      " x[1] + x[2] + x[3] = 1\n",
      " 0 ≤ x[i] ≤ 5 ∀ i ∈ {1,2,3}\n",
      " 0 ≤ y ≤ 0\n"
     ]
    }
   ],
   "source": [
    "m = lp1()\n",
    "initialize!(m)\n",
    "print(m)"
   ]
  },
  {
   "cell_type": "markdown",
   "metadata": {},
   "source": [
    "## Check initialization"
   ]
  },
  {
   "cell_type": "markdown",
   "metadata": {},
   "source": [
    "### Check if initial values are within variable bounds"
   ]
  },
  {
   "cell_type": "code",
   "execution_count": 3,
   "metadata": {
    "collapsed": false
   },
   "outputs": [
    {
     "name": "stdout",
     "output_type": "stream",
     "text": [
      "Uninitialized Variables: \n",
      "y\n",
      " \n",
      "Variable Violating Bounds: \n",
      "x[3] = -1.0, bounds: [ 0.0 , 5.0 ]\n"
     ]
    }
   ],
   "source": [
    "DegeneracyHunter.printVariableDiagnostics(m)"
   ]
  },
  {
   "cell_type": "markdown",
   "metadata": {},
   "source": [
    "### Print equations with absolute residuals greater than 0.001"
   ]
  },
  {
   "cell_type": "code",
   "execution_count": 4,
   "metadata": {
    "collapsed": false
   },
   "outputs": [
    {
     "name": "stdout",
     "output_type": "stream",
     "text": [
      "Infeasible equations: \n",
      "r[4] = -1.0\n",
      "x[1] + x[3] ≥ 1\n",
      "x[1] = x[1] = 1.0  \t [0.0,5.0]\n",
      "x[3] = x[3] = -1.0  \t [0.0,5.0]\n",
      " \n",
      "r[2] = 4.0\n",
      "x[1] + x[2] + x[3] = 1\n",
      "x[1] = x[1] = 1.0  \t [0.0,5.0]\n",
      "x[2] = x[2] = 5.0  \t [0.0,5.0]\n",
      "x[3] = x[3] = -1.0  \t [0.0,5.0]\n",
      " \n",
      "r[5] = 4.0\n",
      "x[1] + x[2] + x[3] = 1\n",
      "x[1] = x[1] = 1.0  \t [0.0,5.0]\n",
      "x[2] = x[2] = 5.0  \t [0.0,5.0]\n",
      "x[3] = x[3] = -1.0  \t [0.0,5.0]\n",
      " \n",
      "r[3] = 6.0\n",
      "x[2] - 2 x[3] ≤ 1\n",
      "x[2] = x[2] = 5.0  \t [0.0,5.0]\n",
      "x[3] = x[3] = -1.0  \t [0.0,5.0]\n",
      " \n"
     ]
    }
   ],
   "source": [
    "DegeneracyHunter.printInfeasibleEquations(m, 0.001)"
   ]
  },
  {
   "cell_type": "markdown",
   "metadata": {},
   "source": [
    "### Check for degenerate constraints"
   ]
  },
  {
   "cell_type": "code",
   "execution_count": 5,
   "metadata": {
    "collapsed": false
   },
   "outputs": [
    {
     "name": "stdout",
     "output_type": "stream",
     "text": [
      "******************************************\n",
      "Welcome to Degeneracy Hunter!\n",
      " \n",
      "Options: \n",
      "includeBounds = true\n",
      "includeWeaklyActive = true\n",
      "removeFixedVar = true\n",
      "epsiActive = 1.0e-6\n",
      "epsiLambda = 1.0e-6\n",
      "lambdaM = 100000.0\n",
      " \n",
      " \n",
      "Smallest non-zero element in Jacobian = 1.0\n",
      "Variable: \n",
      "x[1] = x[1]\n",
      "Equation: \n",
      "x[1] + x[2] ≥ 1\n",
      " \n",
      "Largest non-zero element in Jacobian = -2.0\n",
      "Variable: \n",
      "x[3] = x[3]\n",
      "Equation: \n",
      "x[2] - 2 x[3] ≤ 1\n",
      " \n",
      " \n",
      "(Weakly) Active Inequality Constraints: 0\n",
      "Inactive Inequality Constraints: 3\n",
      "Equality Constraints: 2\n",
      " \n",
      "Variables: 4\n",
      "(Weakly) Active Variable Bounds: 4\n",
      "Fixed Variables: 1\n",
      " \n",
      "Adding Jacobian elements for bounds... 3.62e-6 seconds\n",
      "Assembling J_sparse... 4.866e-6 seconds\n",
      "Assembling J_active... 0.06035891 seconds\n",
      "Identified 2 candidate constraints/bounds.\n",
      "Degenerate set from candidate search:\n",
      "IDS 0...\n",
      "y = 1.0000, l = -1.0000  \t x[1] + x[2] ≥ 1\n",
      "y = 1.0000, l = 1.0000  \t x[1] + x[2] + x[3] = 1\n",
      " \n",
      "Involved variables: \n",
      "x[1] = x[1] = 0.0  \t [0.0,5.0]\n",
      "x[2] = x[2] = 0.0  \t [0.0,5.0]\n",
      "x[3] = x[3] = 0.0  \t [0.0,5.0]\n",
      " \n",
      "\n",
      "nVar = 3\n",
      "nLambda = 5\n",
      "\t Constraints = 2\n",
      "\t Variable Bounds = 3\n",
      "\n",
      " \n",
      "Leaving Degeneracy Hunter.\n",
      "***************************\n",
      " \n"
     ]
    }
   ],
   "source": [
    "DegeneracyHunter.degeneracyHunter(m, includeBounds=true);"
   ]
  },
  {
   "cell_type": "markdown",
   "metadata": {},
   "source": [
    "## Solve model"
   ]
  },
  {
   "cell_type": "code",
   "execution_count": 6,
   "metadata": {
    "collapsed": false
   },
   "outputs": [
    {
     "data": {
      "text/plain": [
       "0.041945466"
      ]
     },
     "execution_count": 6,
     "metadata": {},
     "output_type": "execute_result"
    }
   ],
   "source": [
    "tic()\n",
    "status = solve(m)\n",
    "tm = toq()"
   ]
  },
  {
   "cell_type": "markdown",
   "metadata": {},
   "source": [
    "## Analyze solution"
   ]
  },
  {
   "cell_type": "markdown",
   "metadata": {},
   "source": [
    "### Print inactive constraints at solution"
   ]
  },
  {
   "cell_type": "code",
   "execution_count": 7,
   "metadata": {
    "collapsed": false
   },
   "outputs": [
    {
     "name": "stdout",
     "output_type": "stream",
     "text": [
      "Inactive Equations: \n",
      "x[2] - 2 x[3] ≤ 1\n"
     ]
    }
   ],
   "source": [
    "DegeneracyHunter.printInactiveEquations(m)"
   ]
  },
  {
   "cell_type": "markdown",
   "metadata": {},
   "source": [
    "### Package and print problem size information"
   ]
  },
  {
   "cell_type": "code",
   "execution_count": 8,
   "metadata": {
    "collapsed": false
   },
   "outputs": [
    {
     "name": "stdout",
     "output_type": "stream",
     "text": [
      " \n",
      "Continous Variables (total): 4\n",
      "\t Fixed: 1\n",
      "\t Free: 3\n",
      "\t\t Lower Bounded Only: 0\n",
      "\t\t Upper Bounded Only: 0\n",
      "\t\t Lower & Upper Bounded: 3\n",
      "\t\t Unbounded: 0\n",
      "\t\t Active Bounds: 2\n",
      " \n",
      "Binary Variable (total): 0\n",
      "\t Fixed: 0\n",
      "\t Free: 0\n",
      " \n",
      "Linear Constraints: 5\n",
      "\t Equality: 2\n",
      "\t Ineq. (Active): 2\n",
      "\t Ineq. (Inactive): 1\n",
      " \n",
      "Quadratic Constraints: 0\n",
      "\t Equality: 0\n",
      "\t Ineq. (Active): 0\n",
      "\t Ineq. (Inactive): 0\n",
      " \n",
      "Nonlinear Constraints: 0\n",
      "\t Equality: 0\n",
      "\t Ineq. (Active): 0\n",
      "\t Ineq. (Inactive): 0\n",
      " \n",
      "Solver Exit Status: Optimal\n",
      "Solve Time: 0.041945466s\n",
      " \n"
     ]
    }
   ],
   "source": [
    "ps = DegeneracyHunter.assembleProblemStats(m,status,tm)\n",
    "DegeneracyHunter.printProblemStats(ps)"
   ]
  },
  {
   "cell_type": "code",
   "execution_count": null,
   "metadata": {
    "collapsed": true
   },
   "outputs": [],
   "source": []
  }
 ],
 "metadata": {
  "kernelspec": {
   "display_name": "Julia 0.4.6-pre",
   "language": "julia",
   "name": "julia-0.4"
  },
  "language_info": {
   "file_extension": ".jl",
   "mimetype": "application/julia",
   "name": "julia",
   "version": "0.4.6"
  }
 },
 "nbformat": 4,
 "nbformat_minor": 0
}
