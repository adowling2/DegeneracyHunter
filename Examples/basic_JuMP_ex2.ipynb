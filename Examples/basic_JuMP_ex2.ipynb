{
 "cells": [
  {
   "cell_type": "markdown",
   "metadata": {},
   "source": [
    "# Declaring optimization problems in functions\n",
    "\n",
    "Created by Alex Dowling (alexdowling.net) while at the University of Wisconsin-Madison"
   ]
  },
  {
   "cell_type": "markdown",
   "metadata": {},
   "source": [
    "## Declare problem"
   ]
  },
  {
   "cell_type": "code",
   "execution_count": null,
   "metadata": {
    "collapsed": false
   },
   "outputs": [],
   "source": [
    "using JuMP\n",
    "\n",
    "function solveOptProb1(a,b)\n",
    "\tm = Model()\n",
    "\t@variable(m, 0 <= x <= 2 )\n",
    "\t@variable(m, 0 <= y <= 30 )\n",
    "\n",
    "\t@objective(m, Max, a*x + 3*y )\n",
    "\t@constraint(m, 1x + 5y <= b )\n",
    "\t\n",
    "\tstatus = solve(m)\n",
    "\t\n",
    "\treturn getobjectivevalue(m), [getvalue(x); getvalue(y)], status\n",
    "\t\n",
    "end"
   ]
  },
  {
   "cell_type": "markdown",
   "metadata": {},
   "source": [
    "## Test Function"
   ]
  },
  {
   "cell_type": "code",
   "execution_count": null,
   "metadata": {
    "collapsed": false
   },
   "outputs": [],
   "source": [
    "(obj, z, status) = solveOptProb1(1,1)"
   ]
  },
  {
   "cell_type": "markdown",
   "metadata": {},
   "source": [
    "## Iterate over possible values of a and b"
   ]
  },
  {
   "cell_type": "code",
   "execution_count": null,
   "metadata": {
    "collapsed": true
   },
   "outputs": [],
   "source": [
    "aOpt = 0:5\n",
    "bOpt = 1:3\n",
    "\n",
    "aN = length(aOpt)\n",
    "bN = length(bOpt)\n",
    "\n",
    "objValues = zeros(aN,bN)\n",
    "zValues = zeros(2,aN,bN)\n",
    "\n",
    "for i in 1:length(aOpt)\n",
    "\tfor j in 1:length(bOpt)\n",
    "\t\t(objValues[i,j], zValues[:,i,j], status) = solveOptProb1(aOpt[i],bOpt[j])\n",
    "\tend\n",
    "end"
   ]
  },
  {
   "cell_type": "markdown",
   "metadata": {},
   "source": [
    "## Print and plot results"
   ]
  },
  {
   "cell_type": "code",
   "execution_count": null,
   "metadata": {
    "collapsed": false
   },
   "outputs": [],
   "source": [
    "println(\"objValues = \")\n",
    "println(objValues)\n",
    "println(\" \")\n",
    "\n",
    "println(\"zValues = \")\n",
    "println(zValues)\n",
    "println(\" \")"
   ]
  },
  {
   "cell_type": "code",
   "execution_count": null,
   "metadata": {
    "collapsed": false
   },
   "outputs": [],
   "source": [
    "using PyPlot\n",
    "\n",
    "#= Taken from https://github.com/JuliaLang/julia/blob/master/examples/ndgrid.jl =#\n",
    "function meshgrid{T}(vx::AbstractVector{T}, vy::AbstractVector{T})\n",
    "    m, n = length(vy), length(vx)\n",
    "    vx = reshape(vx, 1, n)\n",
    "    vy = reshape(vy, m, 1)\n",
    "    return (repmat(vx, m, 1), repmat(vy, 1, n))\n",
    "end\n",
    "\n",
    "B, A = meshgrid(bOpt, aOpt)\n",
    "\n",
    "plot_wireframe(B,A,objValues)\n",
    "xlabel(\"b\")\n",
    "ylabel(\"a\")\n",
    "zlabel(\"objective\")"
   ]
  }
 ],
 "metadata": {
  "kernelspec": {
   "display_name": "Julia 0.4.6-pre",
   "language": "julia",
   "name": "julia-0.4"
  },
  "language_info": {
   "file_extension": ".jl",
   "mimetype": "application/julia",
   "name": "julia",
   "version": "0.4.6"
  }
 },
 "nbformat": 4,
 "nbformat_minor": 0
}
