{
 "cells": [
  {
   "cell_type": "markdown",
   "metadata": {},
   "source": [
    "# First Julia optimization example\n",
    "\n",
    "Created by Alex Dowling (alexdowling.net) while at the University of Wisconsin-Madison"
   ]
  },
  {
   "cell_type": "code",
   "execution_count": 11,
   "metadata": {
    "collapsed": true
   },
   "outputs": [],
   "source": [
    "using JuMP"
   ]
  },
  {
   "cell_type": "markdown",
   "metadata": {},
   "source": [
    "## A Simple LP\n",
    "\n",
    "Taken directly from https://jump.readthedocs.org/en/latest/quickstart.html"
   ]
  },
  {
   "cell_type": "code",
   "execution_count": 12,
   "metadata": {
    "collapsed": false
   },
   "outputs": [
    {
     "data": {
      "text/latex": [
       "$$ \\begin{alignat*}{1}\\max\\quad & 5 x + 3 y\\\\\n",
       "\\text{Subject to} \\quad & x + 5 y \\leq 3\\\\\n",
       " & 0 \\leq x \\leq 2\\\\\n",
       " & 0 \\leq y \\leq 30\\\\\n",
       "\\end{alignat*}\n",
       " $$"
      ],
      "text/plain": [
       "Maximization problem with:\n",
       " * 1 linear constraint\n",
       " * 2 variables\n",
       "Solver is default solver"
      ]
     },
     "execution_count": 12,
     "metadata": {},
     "output_type": "execute_result"
    }
   ],
   "source": [
    "m = Model()\n",
    "@variable(m, 0 <= x <= 2 )\n",
    "@variable(m, 0 <= y <= 30 )\n",
    "\n",
    "@objective(m, Max, 5x + 3*y )\n",
    "@constraint(m, 1x + 5y <= 3.0 )\n",
    "\n",
    "m"
   ]
  },
  {
   "cell_type": "code",
   "execution_count": 13,
   "metadata": {
    "collapsed": false
   },
   "outputs": [
    {
     "name": "stdout",
     "output_type": "stream",
     "text": [
      "Max 5 x + 3 y\n",
      "Subject to\n",
      " x + 5 y ≤ 3\n",
      " 0 ≤ x ≤ 2\n",
      " 0 ≤ y ≤ 30\n"
     ]
    }
   ],
   "source": [
    "print(m)"
   ]
  },
  {
   "cell_type": "code",
   "execution_count": 14,
   "metadata": {
    "collapsed": false
   },
   "outputs": [
    {
     "data": {
      "text/plain": [
       ":Optimal"
      ]
     },
     "execution_count": 14,
     "metadata": {},
     "output_type": "execute_result"
    }
   ],
   "source": [
    "status = solve(m)"
   ]
  },
  {
   "cell_type": "code",
   "execution_count": 15,
   "metadata": {
    "collapsed": false
   },
   "outputs": [
    {
     "name": "stdout",
     "output_type": "stream",
     "text": [
      "Objective value: 10.6\n",
      "x = 2.0\n",
      "y = 0.2\n"
     ]
    }
   ],
   "source": [
    "println(\"Objective value: \", getobjectivevalue(m))\n",
    "println(\"x = \", getvalue(x))\n",
    "println(\"y = \", getvalue(y))"
   ]
  },
  {
   "cell_type": "markdown",
   "metadata": {},
   "source": [
    "## Another LP\n",
    "\n",
    "The generation of constraints requires some logical evaluations\n",
    "\n",
    "Example from https://groups.google.com/forum/#!topic/julia-opt/pMHz-9YHN2o"
   ]
  },
  {
   "cell_type": "code",
   "execution_count": 16,
   "metadata": {
    "collapsed": false
   },
   "outputs": [
    {
     "data": {
      "text/latex": [
       "$$ \\begin{alignat*}{1}\\min\\quad & x_{1} + y_{1} + x_{2} + y_{2} + x_{3} + y_{3} + x_{4} + y_{4} + x_{5} + y_{5}\\\\\n",
       "\\text{Subject to} \\quad & x_{1} - y_{1} = 1\\\\\n",
       " & x_{1} - y_{2} = 1\\\\\n",
       " & x_{2} - y_{1} = 1\\\\\n",
       " & 0 \\leq x_{i} \\leq 10 \\quad\\forall i \\in \\{1,2,\\dots,4,5\\}\\\\\n",
       " & 0 \\leq y_{i} \\leq 10 \\quad\\forall i \\in \\{1,2,\\dots,4,5\\}\\\\\n",
       "\\end{alignat*}\n",
       " $$"
      ],
      "text/plain": [
       "Minimization problem with:\n",
       " * 3 linear constraints\n",
       " * 10 variables\n",
       "Solver is default solver"
      ]
     },
     "execution_count": 16,
     "metadata": {},
     "output_type": "execute_result"
    }
   ],
   "source": [
    "m = Model()\n",
    "\n",
    "I = 1:5\n",
    "\n",
    "@variable(m, 0 <= x[I] <= 10)\n",
    "@variable(m, 0 <= y[I] <= 10)\n",
    "\n",
    "# This constraint is only considered when i + j are less than or equal to 3\n",
    "# Note: Only supported by Julia-v0.4 and later\n",
    "@constraint(m, constr[i=I,j=I; i+j <= 3], x[i] - y[j] == 1)\n",
    "\n",
    "@objective(m, Min, sum{x[i] + y[i], i=I})\n",
    "\n",
    "m"
   ]
  },
  {
   "cell_type": "code",
   "execution_count": 17,
   "metadata": {
    "collapsed": false
   },
   "outputs": [
    {
     "name": "stdout",
     "output_type": "stream",
     "text": [
      " \n",
      "Objective value: 2.0\n",
      "x: 1 dimensions:\n",
      "[1] = 1.0\n",
      "[2] = 1.0\n",
      "[3] = 0.0\n",
      "[4] = 0.0\n",
      "[5] = 0.0\n",
      "\n",
      "y: 1 dimensions:\n",
      "[1] = 0.0\n",
      "[2] = 0.0\n",
      "[3] = 0.0\n",
      "[4] = 0.0\n",
      "[5] = 0.0\n",
      "\n"
     ]
    }
   ],
   "source": [
    "status = solve(m)\n",
    "\n",
    "println(\" \")\n",
    "println(\"Objective value: \", getobjectivevalue(m))\n",
    "println(getvalue(x))\n",
    "println(getvalue(y))"
   ]
  },
  {
   "cell_type": "code",
   "execution_count": null,
   "metadata": {
    "collapsed": true
   },
   "outputs": [],
   "source": []
  }
 ],
 "metadata": {
  "kernelspec": {
   "display_name": "Julia 0.4.6-pre",
   "language": "julia",
   "name": "julia-0.4"
  },
  "language_info": {
   "file_extension": ".jl",
   "mimetype": "application/julia",
   "name": "julia",
   "version": "0.4.6"
  }
 },
 "nbformat": 4,
 "nbformat_minor": 0
}
