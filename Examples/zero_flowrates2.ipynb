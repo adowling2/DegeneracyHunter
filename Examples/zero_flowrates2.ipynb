{
 "cells": [
  {
   "cell_type": "markdown",
   "metadata": {},
   "source": [
    "# Zero Flowrate Degenerate Example"
   ]
  },
  {
   "cell_type": "markdown",
   "metadata": {},
   "source": [
    "with three separation units\n",
    "\n",
    "Created by Alex Dowling (alexdowling.net) at the University of Wisconsin-Madison"
   ]
  },
  {
   "cell_type": "markdown",
   "metadata": {},
   "source": [
    "Load modeling package (JuMP) and optimization solver (IPOPT)"
   ]
  },
  {
   "cell_type": "code",
   "execution_count": null,
   "metadata": {
    "collapsed": true
   },
   "outputs": [],
   "source": [
    "using JuMP\n",
    "using Ipopt"
   ]
  },
  {
   "cell_type": "markdown",
   "metadata": {},
   "source": [
    "# Define Problem"
   ]
  },
  {
   "cell_type": "markdown",
   "metadata": {},
   "source": [
    "Declare streams, components (chemical species), and unites"
   ]
  },
  {
   "cell_type": "code",
   "execution_count": null,
   "metadata": {
    "collapsed": false
   },
   "outputs": [],
   "source": [
    "# Streams\n",
    "S = 2:9\n",
    "\n",
    "# Components (chemical species)\n",
    "C = [\"A\", \"B\"]\n",
    "\n",
    "# Units\n",
    "U = [\"U1\", \"U2\", \"U3\"]"
   ]
  },
  {
   "cell_type": "markdown",
   "metadata": {},
   "source": [
    "Specify flowrate connectivity using dictionaries"
   ]
  },
  {
   "cell_type": "code",
   "execution_count": null,
   "metadata": {
    "collapsed": false
   },
   "outputs": [],
   "source": [
    "inlets = Dict{ASCIIString,Integer}(\"U1\"=>2, \"U2\"=>5, \"U3\"=>4)\n",
    "outletV = Dict{ASCIIString,Integer}(\"U1\"=>3, \"U2\"=>6, \"U3\"=>8)\n",
    "outletL = Dict{ASCIIString,Integer}(\"U1\"=>4, \"U2\"=>7, \"U3\"=>9)"
   ]
  },
  {
   "cell_type": "markdown",
   "metadata": {},
   "source": [
    "Specify feed streams and total feed flowrate"
   ]
  },
  {
   "cell_type": "code",
   "execution_count": null,
   "metadata": {
    "collapsed": false
   },
   "outputs": [],
   "source": [
    "feeds = [2, 5]\n",
    "feedflow = Dict{AbstractString, Float64}(\"A\"=>0.55, \"B\"=>0.45)"
   ]
  },
  {
   "cell_type": "markdown",
   "metadata": {},
   "source": [
    "Define costs for operating each unit"
   ]
  },
  {
   "cell_type": "code",
   "execution_count": null,
   "metadata": {
    "collapsed": false,
    "scrolled": true
   },
   "outputs": [],
   "source": [
    "ecost = Dict{AbstractString,Float64}(\"U1\"=>1.5, \"U2\"=>1.0)"
   ]
  },
  {
   "cell_type": "markdown",
   "metadata": {},
   "source": [
    "Specify equilibrium partition coefficient for each unit"
   ]
  },
  {
   "cell_type": "code",
   "execution_count": null,
   "metadata": {
    "collapsed": false
   },
   "outputs": [],
   "source": [
    "K = Dict{Tuple{ASCIIString, ASCIIString}, Float64}(\n",
    "\t\t(\"U1\",\"A\")=>1.008,\t\t(\"U1\",\"B\")=>0.9,\n",
    "\t\t(\"U2\",\"A\")=>1.099,\t\t(\"U2\",\"B\")=>0.9,\n",
    "\t\t(\"U3\",\"A\")=>1.093,\t\t(\"U3\",\"B\")=>0.9\t)"
   ]
  },
  {
   "cell_type": "markdown",
   "metadata": {},
   "source": [
    "# Build Optimization Model"
   ]
  },
  {
   "cell_type": "code",
   "execution_count": null,
   "metadata": {
    "collapsed": false
   },
   "outputs": [],
   "source": [
    "m = Model(solver=IpoptSolver())"
   ]
  },
  {
   "cell_type": "markdown",
   "metadata": {},
   "source": [
    "## General flowsheet model"
   ]
  },
  {
   "cell_type": "code",
   "execution_count": null,
   "metadata": {
    "collapsed": true
   },
   "outputs": [],
   "source": [
    "# Total molar flowrate\n",
    "@variable(m, f[S] >= 0)\n",
    "\n",
    "# Component molar flowrate\n",
    "@variable(m, fc[S,C] >= 0)\n",
    "\n",
    "# Component mole fraction\n",
    "@variable(m, 0.001 <= x[S,C] <= 1)\n",
    "\n",
    "# Unit model\n",
    "for u in U\n",
    "\t\n",
    "\ti = inlets[u]\n",
    "\tv = outletV[u]\n",
    "\tl = outletL[u]\n",
    "\t\n",
    "\t# Overall mass balance\n",
    "\t@constraint(m, f[i] == f[v] + f[l])\n",
    "\n",
    "\tfor c in C\n",
    "\t\t# Component mass balance\n",
    "\t\t@constraint(m, fc[i,c] == fc[v,c] + fc[l,c])\n",
    "\t\n",
    "\t\t# vapor-liquid equilibrium\n",
    "\t\t@constraint(m, x[v, c] == K[(u,c)]*x[l,c])\n",
    "\t\n",
    "\tend\n",
    "\t\n",
    "\t# Unit summation (Rachford-Rice equation)\n",
    "\t# This constraint is redundant!!!\n",
    "\t# @constraint(m, sum{x[v,c] - x[l,c], c in C} == 0)\n",
    "\t\n",
    "end\n",
    "\n",
    "# Stream model: mole fraction specification\n",
    "for s in S\n",
    "\tfor c in C\n",
    "\t\t@constraint(m, fc[s,c] == f[s]*x[s,c])\n",
    "\tend\n",
    "end"
   ]
  },
  {
   "cell_type": "markdown",
   "metadata": {},
   "source": [
    "## Additional specifications"
   ]
  },
  {
   "cell_type": "code",
   "execution_count": null,
   "metadata": {
    "collapsed": true
   },
   "outputs": [],
   "source": [
    "@variable(m, 0.551 <= purityA <= 1.0)\n",
    "@variable(m, 0.9 <= recoveryA <= 1.0)\n",
    "\n",
    "# Equipment cost\n",
    "ecost = Dict{AbstractString,Float64}(\"U1\"=>1.5, \"U2\"=>1.0, \"U3\"=>0.5)\n",
    "\n",
    "# Set total feed to one\n",
    "@constraint(m, sum{f[s], s in feeds} == 1)\n",
    "\n",
    "# Calculate purity of A\n",
    "@constraint(m, purityA*sum{sum{f[s], s in outletV[u]}, u in U} == sum{sum{fc[s,\"A\"], s in outletV[u]}, u in U})\n",
    "\n",
    "# Calculate recovery of A\n",
    "@constraint(m, recoveryA == sum{sum{fc[s,\"A\"], s in outletV[u]}, u in U} / feedflow[\"A\"])\n",
    "\n",
    "# Objective\n",
    "@objective(m, Min, sum{sum{f[s], s in inlets[u]}*ecost[u], u in U} - 100*purityA)\n",
    "\n",
    "for s in feeds\n",
    "\tfor c in C\n",
    "\t\tsetupperbound(x[s,c], feedflow[c])\n",
    "\t\tsetlowerbound(x[s,c], feedflow[c])\n",
    "\tend\n",
    "end"
   ]
  },
  {
   "cell_type": "markdown",
   "metadata": {},
   "source": [
    "## Initialization"
   ]
  },
  {
   "cell_type": "markdown",
   "metadata": {},
   "source": [
    "Strategy: Set all stream total molar flowrates to unity and assume composition matches feed"
   ]
  },
  {
   "cell_type": "code",
   "execution_count": null,
   "metadata": {
    "collapsed": true
   },
   "outputs": [],
   "source": [
    "for s in S\n",
    "\t\n",
    "\tsetvalue(f[s], 1.0)\n",
    "\t\n",
    "\tfor c in C\n",
    "\t\tsetvalue(fc[s,c], feedflow[c])\n",
    "\t\tsetvalue(x[s,c], feedflow[c])\n",
    "\tend\n",
    "end"
   ]
  },
  {
   "cell_type": "markdown",
   "metadata": {},
   "source": [
    "## Print Model"
   ]
  },
  {
   "cell_type": "code",
   "execution_count": null,
   "metadata": {
    "collapsed": false
   },
   "outputs": [],
   "source": [
    "m"
   ]
  },
  {
   "cell_type": "markdown",
   "metadata": {},
   "source": [
    "# Solve Model"
   ]
  },
  {
   "cell_type": "code",
   "execution_count": null,
   "metadata": {
    "collapsed": false,
    "scrolled": true
   },
   "outputs": [],
   "source": [
    "solve(m)"
   ]
  },
  {
   "cell_type": "markdown",
   "metadata": {},
   "source": [
    "Examine solution"
   ]
  },
  {
   "cell_type": "code",
   "execution_count": null,
   "metadata": {
    "collapsed": false
   },
   "outputs": [],
   "source": [
    "for s in S\n",
    "    print(\"Stream \",s,\"\\t\")\n",
    "    @printf \"f = %.4f \\t\" getvalue(f[s])\n",
    "    for c in C\n",
    "        @printf \"x_%s = %.4f \\t\" c getvalue(x[s,c]) \n",
    "    end\n",
    "    println(\" \")\n",
    "end"
   ]
  },
  {
   "cell_type": "markdown",
   "metadata": {},
   "source": [
    "# Run Degeneracy Hunter"
   ]
  },
  {
   "cell_type": "code",
   "execution_count": null,
   "metadata": {
    "collapsed": false
   },
   "outputs": [],
   "source": [
    "include(\"../DegeneracyHunter.jl\")"
   ]
  },
  {
   "cell_type": "code",
   "execution_count": null,
   "metadata": {
    "collapsed": false
   },
   "outputs": [],
   "source": [
    "DegeneracyHunter.degeneracyHunter(m);"
   ]
  },
  {
   "cell_type": "code",
   "execution_count": null,
   "metadata": {
    "collapsed": true
   },
   "outputs": [],
   "source": []
  }
 ],
 "metadata": {
  "kernelspec": {
   "display_name": "Julia 0.4.6-pre",
   "language": "julia",
   "name": "julia-0.4"
  },
  "language_info": {
   "file_extension": ".jl",
   "mimetype": "application/julia",
   "name": "julia",
   "version": "0.4.6"
  }
 },
 "nbformat": 4,
 "nbformat_minor": 0
}
